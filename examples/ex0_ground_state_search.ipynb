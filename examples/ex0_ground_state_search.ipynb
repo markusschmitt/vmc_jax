{
 "cells": [
  {
   "cell_type": "code",
   "execution_count": null,
   "id": "b89ce15b",
   "metadata": {
    "id": "b89ce15b"
   },
   "outputs": [],
   "source": [
    "import sys\n",
    "# Find jVMC package\n",
    "sys.path.append(sys.path[0] + \"/..\")\n",
    "\n",
    "import jax\n",
    "jax.config.update(\"jax_enable_x64\", True)\n",
    "\n",
    "import jax.random as random\n",
    "import jax.numpy as jnp\n",
    "import flax.linen as nn\n",
    "\n",
    "import numpy as np\n",
    "import matplotlib.pyplot as plt\n",
    "%matplotlib inline"
   ]
  },
  {
   "cell_type": "code",
   "execution_count": null,
   "id": "d22bbd8b",
   "metadata": {
    "colab": {
     "base_uri": "https://localhost:8080/"
    },
    "id": "d22bbd8b",
    "outputId": "42386334-83bf-4486-c3e1-a71ab9800123"
   },
   "outputs": [],
   "source": [
    "# install the pip package and import jVMC\n",
    "!pip install jVMC\n",
    "\n",
    "import jVMC"
   ]
  },
  {
   "cell_type": "code",
   "execution_count": null,
   "id": "058f0001",
   "metadata": {
    "id": "058f0001"
   },
   "outputs": [],
   "source": [
    "L = 10\n",
    "g = -0.7\n",
    "\n",
    "GPU_avail = True\n",
    "# Initialize net\n",
    "if GPU_avail:\n",
    "  # reproduces results in Fig. 3 of the paper\n",
    "  # estimated run_time in colab (GPU enabled): ~26 minutes\n",
    "  net = jVMC.nets.CNN(F=(L,), channels=(16,), strides=(1,), periodicBoundary=True)\n",
    "  n_steps = 1000\n",
    "  n_Samples = 40000\n",
    "else:\n",
    "  # may be used to obtain results on Laptop CPUs\n",
    "  # estimated run_time: ~100 seconds\n",
    "  net = jVMC.nets.CpxRBM(numHidden=8, bias=False)\n",
    "  n_steps = 300\n",
    "  n_Samples = 5000\n",
    "\n",
    "psi = jVMC.vqs.NQS(net, seed=1234)  # Variational wave function"
   ]
  },
  {
   "cell_type": "code",
   "execution_count": null,
   "id": "7f4e192b",
   "metadata": {
    "colab": {
     "base_uri": "https://localhost:8080/"
    },
    "id": "7f4e192b",
    "outputId": "7709c307-8753-4e85-cee1-1d16b1a3f46c"
   },
   "outputs": [],
   "source": [
    "def energy_single_p_mode(h_t, P):\n",
    "    return np.sqrt(1 + h_t**2 - 2 * h_t * np.cos(P))\n",
    "\n",
    "def ground_state_energy_per_site(h_t, N):\n",
    "    Ps =  0.5 * np.arange(- (N - 1), N - 1 + 2, 2)\n",
    "    Ps = Ps * 2 * np.pi / N\n",
    "    energies_p_modes =  np.array([energy_single_p_mode(h_t, P) for P in Ps])\n",
    "    return - 1 / N * np.sum(energies_p_modes)\n",
    "\n",
    "exact_energy = ground_state_energy_per_site(g, L)\n",
    "print(exact_energy)"
   ]
  },
  {
   "cell_type": "code",
   "execution_count": null,
   "id": "f6989de3",
   "metadata": {
    "id": "f6989de3"
   },
   "outputs": [],
   "source": [
    "# Set up hamiltonian\n",
    "hamiltonian = jVMC.operator.BranchFreeOperator()\n",
    "for l in range(L):\n",
    "    hamiltonian.add(jVMC.operator.scal_opstr(-1., (jVMC.operator.Sz(l), jVMC.operator.Sz((l + 1) % L))))\n",
    "    hamiltonian.add(jVMC.operator.scal_opstr(g, (jVMC.operator.Sx(l), )))"
   ]
  },
  {
   "cell_type": "code",
   "execution_count": null,
   "id": "bfd19ac7",
   "metadata": {
    "id": "bfd19ac7"
   },
   "outputs": [],
   "source": [
    "# Set up sampler\n",
    "sampler = jVMC.sampler.MCSampler(psi, (L,), random.PRNGKey(4321), updateProposer=jVMC.sampler.propose_spin_flip_Z2,\n",
    "                                 numChains=100, sweepSteps=L,\n",
    "                                 numSamples=n_Samples, thermalizationSweeps=25)\n",
    "\n",
    "# Set up TDVP\n",
    "tdvpEquation = jVMC.util.tdvp.TDVP(sampler, rhsPrefactor=1.,\n",
    "                                   pinvTol=1e-8, diagonalShift=10, makeReal='real')\n",
    "\n",
    "stepper = jVMC.util.stepper.Euler(timeStep=1e-2)  # ODE integrator"
   ]
  },
  {
   "cell_type": "code",
   "execution_count": null,
   "id": "564ab5ad",
   "metadata": {
    "colab": {
     "base_uri": "https://localhost:8080/"
    },
    "id": "564ab5ad",
    "outputId": "2fd1a78c-efbc-4df0-c67b-644133fb2333"
   },
   "outputs": [],
   "source": [
    "res = []\n",
    "for n in range(n_steps):\n",
    "\n",
    "    dp, _ = stepper.step(0, tdvpEquation, psi.get_parameters(), hamiltonian=hamiltonian, psi=psi, numSamples=None)\n",
    "    psi.set_parameters(dp)\n",
    "\n",
    "    print(n, jax.numpy.real(tdvpEquation.ElocMean0) / L, tdvpEquation.ElocVar0 / L)\n",
    "\n",
    "    res.append([n, jax.numpy.real(tdvpEquation.ElocMean0) / L, tdvpEquation.ElocVar0 / L])"
   ]
  },
  {
   "cell_type": "code",
   "execution_count": null,
   "id": "b9d0a52b",
   "metadata": {
    "colab": {
     "base_uri": "https://localhost:8080/",
     "height": 355
    },
    "id": "b9d0a52b",
    "outputId": "446b1d5a-e9b6-431f-fc1b-ebb8975715aa"
   },
   "outputs": [],
   "source": [
    "res = np.array(res)\n",
    "\n",
    "fig, ax = plt.subplots(2,1, sharex=True, figsize=[4.8,4.8])\n",
    "ax[0].semilogy(res[:, 0], res[:, 1] - exact_energy, '-', label=r\"$L=\"+str(L)+\"$\")\n",
    "ax[0].set_ylabel(r'$(E-E_0)/L$')\n",
    "\n",
    "ax[1].semilogy(res[:, 0], res[:, 2], '-')\n",
    "ax[1].set_ylabel(r'Var$(E)/L$')\n",
    "ax[0].legend()\n",
    "plt.xlabel('iteration')\n",
    "plt.tight_layout()\n",
    "plt.savefig('gs_search.pdf')"
   ]
  }
 ],
 "metadata": {
  "accelerator": "GPU",
  "colab": {
   "collapsed_sections": [],
   "name": "ex0_ground_state_search.ipynb",
   "provenance": []
  },
  "kernelspec": {
   "display_name": "Python 3",
   "language": "python",
   "name": "python3"
  },
  "language_info": {
   "codemirror_mode": {
    "name": "ipython",
    "version": 3
   },
   "file_extension": ".py",
   "mimetype": "text/x-python",
   "name": "python",
   "nbconvert_exporter": "python",
   "pygments_lexer": "ipython3",
   "version": "3.7.4"
  }
 },
 "nbformat": 4,
 "nbformat_minor": 5
}
